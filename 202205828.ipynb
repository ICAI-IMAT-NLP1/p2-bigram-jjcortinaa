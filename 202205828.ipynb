{
  "cells": [
    {
      "cell_type": "markdown",
      "id": "dtl79vUk-PJY",
      "metadata": {
        "id": "dtl79vUk-PJY"
      },
      "source": [
        "# Natural Language Processing 1\n",
        "## Exercise sheet 1: Language modeling and $n$-gram models\n",
        "\n",
        "### Instructions\n",
        "\n",
        "Fill in the numerical answers in the provided code cells. Submit the completed notebook when done. Reasoning is required only where specified.\n",
        "\n",
        "- Numerical answers should be stored in variables in the provided code cells.\n",
        "- Reasoning and detailed calculations should be added in the designated text cells.\n",
        "- Do **not** modify the variable names or the structure of the notebook.\n",
        "- Save and download your notebook with the following naming convention: `STUDENT_ID.ipynb`, where `STUDENT_ID` is your university-assigned ID.\n",
        "- Upload the notebook to Moodle in the **Exercises** section. Make sure the file is correctly named before submitting.\n",
        "\n",
        "\n",
        "### Writing down math formulas\n",
        "\n",
        "If you know how to write math in LaTeX, you can use `$` signs to write math formulas in the provided text cells. For example, if you write:\n",
        "\n",
        "```markdown\n",
        "$$f(x_1,\\\\dots,x_n)=\\\\frac{\\\\sum_{i=1}^n x_i}{|\\mathcal{V}|}$$\n",
        "```\n",
        "It will display as follows:\n",
        "\n",
        "$$f(x_1,\\dots,x_n)=\\frac{\\sum_{i=1}^n x_i}{|\\mathcal{V}|}$$\n",
        "\n",
        "You can also write math inline, like this:\n",
        "\n",
        "```markdown\n",
        "$f(n) = n^2 + 1$\n",
        "```\n",
        "\n",
        "which displays as follows: $f(n) = n^2 + 1$. This is helpful for embedding equations within sentences.\n",
        "\n",
        "While LaTeX format is not required, you're encouraged to use it to format your math clearly and make your work easier to read."
      ]
    },
    {
      "cell_type": "markdown",
      "id": "Wl8juGMo-PJZ",
      "metadata": {
        "id": "Wl8juGMo-PJZ"
      },
      "source": [
        "### Exercise 1: Defining a trigram language model from text data [MG]"
      ]
    },
    {
      "cell_type": "code",
      "execution_count": null,
      "id": "wdq2rvoE-PJZ",
      "metadata": {
        "id": "wdq2rvoE-PJZ"
      },
      "outputs": [],
      "source": [
        "# Q1.1: p_add1(a | BOS, BOS)\n",
        "p_add1_a_given_BOS_BOS = 3/8  # Replace None with your answer (e.g., 1/2, or 0.375)\n",
        "\n",
        "# Q1.2: p_add1(b | BOS, a)\n",
        "p_add1_b_given_BOS_a = 3/5  # Replace None with your answer\n",
        "\n",
        "# Q1.3: p_add1(a | a, b)\n",
        "p_add1_a_given_a_b = 2/5  # Replace None with your answer\n",
        "\n",
        "# Q1.4: p_add1(b | b, a)\n",
        "p_add1_b_given_b_a = 1/5 # Replace None with your answer\n",
        "\n",
        "# Q1.5: p_add1(c | a, b)\n",
        "p_add1_c_given_a_b = 2/5  # Replace None with your answer\n",
        "\n",
        "# Q1.6: p_add1(EOS | b, c)\n",
        "p_add1_EOS_given_b_c = 1/2  # Replace None with your answer\n",
        "\n",
        "# Q1.7: p_add1(c | BOS, BOS)\n",
        "p_add1_c_given_BOS_BOS = 1/6  # Replace None with your answer\n",
        "\n",
        "# Q1.8: p_add1(b | BOS, c)\n",
        "p_add1_b_given_BOS_c = 1/3 # Replace None with your answer\n",
        "\n",
        "# Q1.9: p_add1(a | c, b)\n",
        "p_add1_a_given_c_b = 1/3  # Replace None with your answer\n",
        "\n",
        "# Q1.10: p_add1(EOS | b, a)\n",
        "p_add1_EOS_given_b_a = 2/5  # Replace None with your answer\n"
      ]
    },
    {
      "cell_type": "code",
      "execution_count": null,
      "id": "8srO7ZXt-PJb",
      "metadata": {
        "id": "8srO7ZXt-PJb"
      },
      "outputs": [],
      "source": [
        "# Sentence Probabilities\n",
        "sentence_prob_1 = 9/2500  # Replace None with the probability of BOS BOS a b a b c EOS\n",
        "sentence_prob_2 = 1/135  # Replace None with the probability of BOS BOS c b a EOS"
      ]
    },
    {
      "cell_type": "markdown",
      "id": "UuVESCEh-PJc",
      "metadata": {
        "id": "UuVESCEh-PJc"
      },
      "source": [
        "#### Reasoning for Exercise 1\n",
        "![Ejercicio 1 a](ej1.png)\n",
        "![Ejercicio 1 b](ej1b.png)\n",
        "\n"
      ]
    },
    {
      "cell_type": "markdown",
      "id": "pUOcjRHe-PJc",
      "metadata": {
        "id": "pUOcjRHe-PJc"
      },
      "source": [
        "### Exercise 2: Detect the language model [MG]"
      ]
    },
    {
      "cell_type": "code",
      "execution_count": null,
      "id": "veZ287LO-PJc",
      "metadata": {
        "id": "veZ287LO-PJc"
      },
      "outputs": [],
      "source": [
        "# Q2.1: Choice 1 - f(n) = 1/2\n",
        "choice_1_valid = False  # Set to True if this choice satisfies condition 3, False otherwise\n",
        "\n",
        "# Q2.2: Choice 2 - f(n) = 1/(2^n)\n",
        "choice_2_valid = False  # Set to True if this choice satisfies condition 3, False otherwise\n",
        "\n",
        "# Q2.3: Choice 3 - f(n) = 1/(3^n)\n",
        "choice_3_valid = True  # Set to True if this choice satisfies condition 3, False otherwise"
      ]
    },
    {
      "cell_type": "markdown",
      "id": "EUchGsVo-PJc",
      "metadata": {
        "id": "EUchGsVo-PJc"
      },
      "source": [
        "#### Reasoning for Exercise 2\n",
        "![Ejercicio 2](ej2.png)\n"
      ]
    },
    {
      "cell_type": "markdown",
      "id": "pWwHUDGg-PJc",
      "metadata": {
        "id": "pWwHUDGg-PJc"
      },
      "source": [
        "### Exercise 3: $n$-gram models without the \t$\\texttt{EOS}$ symbol [MU]"
      ]
    },
    {
      "cell_type": "markdown",
      "id": "PQMNQUQS-PJc",
      "metadata": {
        "id": "PQMNQUQS-PJc"
      },
      "source": [
        "![Ejercicio 3](ej3.png)"
      ]
    },
    {
      "cell_type": "markdown",
      "id": "849d83ac",
      "metadata": {},
      "source": []
    }
  ],
  "metadata": {
    "colab": {
      "provenance": []
    },
    "kernelspec": {
      "display_name": "Python 3",
      "language": "python",
      "name": "python3"
    },
    "language_info": {
      "codemirror_mode": {
        "name": "ipython",
        "version": 3
      },
      "file_extension": ".py",
      "mimetype": "text/x-python",
      "name": "python",
      "nbconvert_exporter": "python",
      "pygments_lexer": "ipython3",
      "version": "3.8.10"
    }
  },
  "nbformat": 4,
  "nbformat_minor": 5
}
